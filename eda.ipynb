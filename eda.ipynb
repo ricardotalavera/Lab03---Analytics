{
 "cells": [
  {
   "cell_type": "code",
   "execution_count": 2,
   "metadata": {},
   "outputs": [],
   "source": [
    "import pandas as pd\n",
    "import utils"
   ]
  },
  {
   "cell_type": "code",
   "execution_count": 6,
   "metadata": {},
   "outputs": [],
   "source": [
    "files = [\"ACCES-A-INTER-FIJO-POR\",\"CONEC-AL-SERVI-DE-INTER\",\"INGRE-POR-LA-OPERA-DEL\",\n",
    "\"PENET-DEL-INTER-FIJO-51614\",\"TOTAL-NACIO-DE-ACCES-48866\",\"VELOC-PROME-DE-BAJAD-DE\"]\n",
    "\n"
   ]
  },
  {
   "cell_type": "code",
   "execution_count": 5,
   "metadata": {},
   "outputs": [
    {
     "name": "stdout",
     "output_type": "stream",
     "text": [
      "Observación inicial directa del file\n",
      "******************************\n",
      "    Año  Trimestre        Provincia  Mbps (Media de bajada)\n",
      "0  2022          2     Buenos Aires                      66\n",
      "1  2022          2  Capital Federal                      94\n",
      "2  2022          2        Catamarca                      57\n",
      "3  2022          2            Chaco                      51\n",
      "4  2022          2           Chubut                      15\n",
      "Tipo de datos :\n",
      "******************************\n",
      "<class 'pandas.core.frame.DataFrame'>\n",
      "RangeIndex: 816 entries, 0 to 815\n",
      "Data columns (total 4 columns):\n",
      " #   Column                  Non-Null Count  Dtype \n",
      "---  ------                  --------------  ----- \n",
      " 0   Año                     816 non-null    int64 \n",
      " 1   Trimestre               816 non-null    int64 \n",
      " 2   Provincia               816 non-null    object\n",
      " 3   Mbps (Media de bajada)  816 non-null    int64 \n",
      "dtypes: int64(3), object(1)\n",
      "memory usage: 25.6+ KB\n",
      "None\n",
      "Observación de Na´s\n",
      "******************************\n",
      "Año                       0\n",
      "Trimestre                 0\n",
      "Provincia                 0\n",
      "Mbps (Media de bajada)    0\n",
      "dtype: int64\n"
     ]
    }
   ],
   "source": [
    "for file in files:\n",
    "    #lectura personalizada\n",
    "    if file in [\"CONEC-AL-SERVI-DE-INTER\"]:\n",
    "        data=pd.read_csv(\"PowerBI/\"+file+\".csv\",encoding=\"latin-1\", decimal=\".\")\n",
    "    else:\n",
    "        if file in [\"PENET-DEL-INTER-FIJO-51614\"]:\n",
    "            data=pd.read_csv(\"PowerBI/\"+file+\".csv\",encoding=\"latin-1\", decimal=\",\")\n",
    "        else:\n",
    "            if file in [\"INDIC-MACRO\"]:\n",
    "                data=pd.read_csv(\"PowerBI/\"+file+\".csv\",encoding=\"latin-1\", decimal=\",\",thousands=\".\")\n",
    "            else:\n",
    "                data=pd.read_csv(\"PowerBI/\"+file+\".csv\",encoding=\"latin-1\", thousands=\".\")\n",
    "\n",
    "    print(\"Observación inicial directa del file\")\n",
    "    print(\"***\"*10)\n",
    "    print(data.head(5))\n",
    "\n",
    "    print(\"Tipo de datos :\")\n",
    "    print(\"***\"*10)\n",
    "    print(data.info())\n",
    "\n",
    "    print(\"Observación de Na´s\")\n",
    "    print(\"***\"*10)\n",
    "    print(data.isna().sum(axis=0))\n",
    "\n",
    "    #Personalizaciones\n",
    "    if file == \"CONEC-AL-SERVI-DE-INTER\":\n",
    "        utils.elimina_col(data,\"link\")\n",
    "        data[[\"Latitud\",\"Longitud\"]]=data[[\"Latitud\",\"Longitud\"]].astype(float)\n",
    "        print(\"Modificaciones efectuadas :\")\n",
    "        print(\"***\"*10)\n",
    "        print(data.info())\n",
    "\n",
    "    if file == \"ACCES-A-INTER-FIJO-POR\":\n",
    "        data[\"Año\"].replace(\"\\D\",\"\",regex=True,inplace=True)\n",
    "        data[\"Trimestre\"].replace(\"\\D\",\"\",regex=True,inplace=True)\n",
    "        utils.elimina_row(data,data.shape[0]-1)\n",
    "        data.tail\n",
    "        for i,j in enumerate(data[\"Año\"]):\n",
    "            data[[\"Año\",\"Trimestre\"]]=data[[\"Año\",\"Trimestre\"]].astype(int)\n",
    "            \n",
    "        \n",
    "        print(\"Modificaciones efectuadas :\")\n",
    "        print(\"***\"*10)\n",
    "        print(data.info())\n",
    "        \n",
    "    \n",
    "    \n",
    "    data.to_csv(\"PowerBI/\"+file.lower()+\"_EDA.csv\",index=False)\n",
    "\n",
    "    #Añadiendo formato vertical\n",
    "\n",
    "    \n"
   ]
  },
  {
   "cell_type": "code",
   "execution_count": 44,
   "metadata": {},
   "outputs": [
    {
     "data": {
      "text/html": [
       "<div>\n",
       "<style scoped>\n",
       "    .dataframe tbody tr th:only-of-type {\n",
       "        vertical-align: middle;\n",
       "    }\n",
       "\n",
       "    .dataframe tbody tr th {\n",
       "        vertical-align: top;\n",
       "    }\n",
       "\n",
       "    .dataframe thead th {\n",
       "        text-align: right;\n",
       "    }\n",
       "</style>\n",
       "<table border=\"1\" class=\"dataframe\">\n",
       "  <thead>\n",
       "    <tr style=\"text-align: right;\">\n",
       "      <th></th>\n",
       "      <th>Año</th>\n",
       "      <th>Trimestre</th>\n",
       "      <th>Provincia</th>\n",
       "      <th>ADSL</th>\n",
       "      <th>Cablemodem</th>\n",
       "      <th>Fibra óptica</th>\n",
       "      <th>Wireless</th>\n",
       "      <th>Otros</th>\n",
       "      <th>Total</th>\n",
       "    </tr>\n",
       "  </thead>\n",
       "  <tbody>\n",
       "    <tr>\n",
       "      <th>0</th>\n",
       "      <td>2022</td>\n",
       "      <td>2</td>\n",
       "      <td>Buenos Aires</td>\n",
       "      <td>350652.0</td>\n",
       "      <td>2719613.0</td>\n",
       "      <td>1399043.0</td>\n",
       "      <td>126847.0</td>\n",
       "      <td>71028.0</td>\n",
       "      <td>4667183.0</td>\n",
       "    </tr>\n",
       "    <tr>\n",
       "      <th>1</th>\n",
       "      <td>2022</td>\n",
       "      <td>2</td>\n",
       "      <td>Capital Federal</td>\n",
       "      <td>145491.0</td>\n",
       "      <td>1232226.0</td>\n",
       "      <td>121506.0</td>\n",
       "      <td>5757.0</td>\n",
       "      <td>31791.0</td>\n",
       "      <td>1536771.0</td>\n",
       "    </tr>\n",
       "    <tr>\n",
       "      <th>2</th>\n",
       "      <td>2022</td>\n",
       "      <td>2</td>\n",
       "      <td>Catamarca</td>\n",
       "      <td>11928.0</td>\n",
       "      <td>9430.0</td>\n",
       "      <td>42087.0</td>\n",
       "      <td>1329.0</td>\n",
       "      <td>2234.0</td>\n",
       "      <td>67008.0</td>\n",
       "    </tr>\n",
       "  </tbody>\n",
       "</table>\n",
       "</div>"
      ],
      "text/plain": [
       "    Año  Trimestre        Provincia      ADSL  Cablemodem  Fibra óptica  \\\n",
       "0  2022          2     Buenos Aires  350652.0   2719613.0     1399043.0   \n",
       "1  2022          2  Capital Federal  145491.0   1232226.0      121506.0   \n",
       "2  2022          2        Catamarca   11928.0      9430.0       42087.0   \n",
       "\n",
       "   Wireless    Otros      Total  \n",
       "0  126847.0  71028.0  4667183.0  \n",
       "1    5757.0  31791.0  1536771.0  \n",
       "2    1329.0   2234.0    67008.0  "
      ]
     },
     "execution_count": 44,
     "metadata": {},
     "output_type": "execute_result"
    }
   ],
   "source": [
    "file=\"acces-a-inter-fijo-por_EDA\"\n",
    "data=pd.read_csv(\"PowerBI/\"+file+\".csv\")\n",
    "data.head(3)\n"
   ]
  },
  {
   "cell_type": "code",
   "execution_count": 45,
   "metadata": {},
   "outputs": [],
   "source": [
    "utils.elimina_col(data,\"Total\")\n",
    "data= data.melt(id_vars =['Año','Trimestre','Provincia'], value_vars =['ADSL','Cablemodem',\n",
    "'Fibra óptica','Wireless','Otros'], var_name = 'Tecnología')\n",
    "data.to_csv(\"PowerBI/\"+file.lower()+\"_EDA_Ver.csv\",index=False)"
   ]
  }
 ],
 "metadata": {
  "kernelspec": {
   "display_name": "Python 3",
   "language": "python",
   "name": "python3"
  },
  "language_info": {
   "codemirror_mode": {
    "name": "ipython",
    "version": 3
   },
   "file_extension": ".py",
   "mimetype": "text/x-python",
   "name": "python",
   "nbconvert_exporter": "python",
   "pygments_lexer": "ipython3",
   "version": "3.10.7"
  },
  "orig_nbformat": 4,
  "vscode": {
   "interpreter": {
    "hash": "f70c1e2fb12efbb75f4672ba1915fe938ef6bbf49e61743293f7740cd33511b7"
   }
  }
 },
 "nbformat": 4,
 "nbformat_minor": 2
}
